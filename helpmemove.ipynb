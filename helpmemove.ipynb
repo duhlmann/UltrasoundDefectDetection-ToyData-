{
 "cells": [
  {
   "cell_type": "code",
   "execution_count": 4,
   "id": "260fd3a4-3e99-4ab0-a3f5-62976cd50170",
   "metadata": {},
   "outputs": [
    {
     "name": "stdout",
     "output_type": "stream",
     "text": [
      "Flattened Train set: (0,) (0,)\n",
      "CNN Train set: (0,) (0,)\n"
     ]
    }
   ],
   "source": [
    "import os\n",
    "import cv2\n",
    "import numpy as np\n",
    "\n",
    "# ---- Single folder loader ----\n",
    "def load_images_from_folder(folder, flatten=True):\n",
    "    \"\"\"\n",
    "    Loads images from a folder.\n",
    "    - folder: path to NORMAL/PNEUMONIA structure\n",
    "    - flatten: if True, returns 1D arrays; if False, returns (H, W, 1) for CNNs\n",
    "    \"\"\"\n",
    "    images = []\n",
    "    labels = []\n",
    "    for root, dirs, files in os.walk(folder):\n",
    "        for file in files:\n",
    "            if file.lower().endswith(('.png', '.jpg', '.jpeg')):\n",
    "                image_path = os.path.join(root, file)\n",
    "\n",
    "                # Label based on folder name\n",
    "                label_name = os.path.basename(os.path.dirname(image_path))\n",
    "                label = 1 if label_name.upper() == \"PNEUMONIA\" else 0\n",
    "\n",
    "                # Read grayscale\n",
    "                img = cv2.imread(image_path, cv2.IMREAD_GRAYSCALE)\n",
    "                if img is None:\n",
    "                    print(f\"Could not read {image_path}\")\n",
    "                    continue\n",
    "\n",
    "                # Resize to 64x64\n",
    "                img_resized = cv2.resize(img, (64, 64))\n",
    "\n",
    "                if flatten:\n",
    "                    img_data = img_resized.flatten()\n",
    "                else:\n",
    "                    img_data = img_resized.reshape(64, 64, 1)  # For CNNs\n",
    "\n",
    "                images.append(img_data)\n",
    "                labels.append(label)\n",
    "\n",
    "    return np.array(images), np.array(labels)\n",
    "\n",
    "\n",
    "# ---- Automatic dataset loader ----\n",
    "def load_dataset(base_folder, flatten=True):\n",
    "    \"\"\"\n",
    "    Loads train, test, val datasets automatically.\n",
    "    - base_folder: main chest_xray folder (can be \"chest_xray\" or \"chest_xray/chest_xray\")\n",
    "    - flatten: if True, returns flattened images; if False, keeps shape for CNNs\n",
    "    \"\"\"\n",
    "    # Fix for double folder\n",
    "    double_folder = os.path.join(base_folder, \"chest_xray\")\n",
    "    if os.path.isdir(double_folder):\n",
    "        base_folder = double_folder\n",
    "    X_train, y_train = load_images_from_folder(os.path.join(base_folder, \"train\"), flatten)\n",
    "    X_test, y_test = load_images_from_folder(os.path.join(base_folder, \"test\"), flatten)\n",
    "    X_val, y_val = load_images_from_folder(os.path.join(base_folder, \"val\"), flatten)\n",
    "\n",
    "    return X_train, y_train, X_test, y_test, X_val, y_val\n",
    "\n",
    "\n",
    "# ---- Example usage ----\n",
    "if __name__ == \"__main__\":\n",
    "    base_path = \"chest_xray\"  # Works with or without the extra /chest_xray\n",
    "\n",
    "    # Flattened for ML models like SVM, logistic regression\n",
    "    X_train, y_train, X_test, y_test, X_val, y_val = load_dataset(base_path, flatten=True)\n",
    "    print(\"Flattened Train set:\", X_train.shape, y_train.shape)\n",
    "\n",
    "    # Non-flattened for CNN models\n",
    "    X_train_cnn, y_train_cnn, X_test_cnn, y_test_cnn, X_val_cnn, y_val_cnn = load_dataset(base_path, flatten=False)\n",
    "    print(\"CNN Train set:\", X_train_cnn.shape, y_train_cnn.shape)"
   ]
  },
  {
   "cell_type": "code",
   "execution_count": null,
   "id": "cb580c48-68c3-4a3f-a0ab-3dd75ffc3d56",
   "metadata": {},
   "outputs": [],
   "source": []
  }
 ],
 "metadata": {
  "kernelspec": {
   "display_name": "Python 3 (ipykernel)",
   "language": "python",
   "name": "python3"
  },
  "language_info": {
   "codemirror_mode": {
    "name": "ipython",
    "version": 3
   },
   "file_extension": ".py",
   "mimetype": "text/x-python",
   "name": "python",
   "nbconvert_exporter": "python",
   "pygments_lexer": "ipython3",
   "version": "3.12.3"
  }
 },
 "nbformat": 4,
 "nbformat_minor": 5
}
